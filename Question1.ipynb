{
 "cells": [
  {
   "cell_type": "code",
   "execution_count": 3,
   "metadata": {},
   "outputs": [
    {
     "name": "stdout",
     "output_type": "stream",
     "text": [
      "Requirement already satisfied: beautifulsoup4 in /srv/conda/lib/python3.6/site-packages (4.6.3)\r\n"
     ]
    }
   ],
   "source": [
    "! pip install beautifulsoup4"
   ]
  },
  {
   "cell_type": "code",
   "execution_count": 4,
   "metadata": {},
   "outputs": [
    {
     "name": "stdout",
     "output_type": "stream",
     "text": [
      "Requirement already satisfied: requests in /srv/conda/lib/python3.6/site-packages (2.20.1)\n",
      "Requirement already satisfied: chardet<3.1.0,>=3.0.2 in /srv/conda/lib/python3.6/site-packages (from requests) (3.0.4)\n",
      "Requirement already satisfied: certifi>=2017.4.17 in /srv/conda/lib/python3.6/site-packages (from requests) (2018.11.29)\n",
      "Requirement already satisfied: idna<2.8,>=2.5 in /srv/conda/lib/python3.6/site-packages (from requests) (2.7)\n",
      "Requirement already satisfied: urllib3<1.25,>=1.21.1 in /srv/conda/lib/python3.6/site-packages (from requests) (1.23)\n"
     ]
    }
   ],
   "source": [
    "! pip install requests"
   ]
  },
  {
   "cell_type": "code",
   "execution_count": 6,
   "metadata": {},
   "outputs": [
    {
     "name": "stdout",
     "output_type": "stream",
     "text": [
      "Requirement already satisfied: lxml in /srv/conda/lib/python3.6/site-packages (4.2.5)\r\n"
     ]
    }
   ],
   "source": [
    "! pip install lxml"
   ]
  },
  {
   "cell_type": "code",
   "execution_count": 7,
   "metadata": {},
   "outputs": [
    {
     "name": "stdout",
     "output_type": "stream",
     "text": [
      "Requirement already satisfied: bs4 in /srv/conda/lib/python3.6/site-packages (0.0.1)\r\n",
      "Requirement already satisfied: beautifulsoup4 in /srv/conda/lib/python3.6/site-packages (from bs4) (4.6.3)\r\n"
     ]
    }
   ],
   "source": [
    "! pip install bs4"
   ]
  },
  {
   "cell_type": "code",
   "execution_count": 9,
   "metadata": {},
   "outputs": [],
   "source": [
    "import bs4"
   ]
  },
  {
   "cell_type": "code",
   "execution_count": 10,
   "metadata": {},
   "outputs": [],
   "source": [
    "from bs4 import BeautifulSoup"
   ]
  },
  {
   "cell_type": "code",
   "execution_count": 11,
   "metadata": {},
   "outputs": [],
   "source": [
    "import requests"
   ]
  },
  {
   "cell_type": "code",
   "execution_count": 12,
   "metadata": {},
   "outputs": [],
   "source": [
    "import pandas as pd"
   ]
  },
  {
   "cell_type": "code",
   "execution_count": 13,
   "metadata": {},
   "outputs": [],
   "source": [
    "import csv"
   ]
  },
  {
   "cell_type": "code",
   "execution_count": 14,
   "metadata": {},
   "outputs": [],
   "source": [
    "res = requests.get('https://en.wikipedia.org/wiki/List_of_postal_codes_of_Canada:_M').text"
   ]
  },
  {
   "cell_type": "code",
   "execution_count": 15,
   "metadata": {},
   "outputs": [],
   "source": [
    "soup = BeautifulSoup(res,'lxml')"
   ]
  },
  {
   "cell_type": "code",
   "execution_count": 16,
   "metadata": {},
   "outputs": [],
   "source": [
    "res = soup.find('table',class_='wikitable sortable')"
   ]
  },
  {
   "cell_type": "code",
   "execution_count": 18,
   "metadata": {},
   "outputs": [],
   "source": [
    "#print(res)"
   ]
  },
  {
   "cell_type": "code",
   "execution_count": 24,
   "metadata": {},
   "outputs": [],
   "source": [
    "df = pd.read_html(str(res),index_col=0)"
   ]
  },
  {
   "cell_type": "code",
   "execution_count": 20,
   "metadata": {},
   "outputs": [
    {
     "name": "stdout",
     "output_type": "stream",
     "text": [
      "[                         1                                                 2\n",
      "0                                                                           \n",
      "Postcode           Borough                                     Neighbourhood\n",
      "M1A           Not assigned                                      Not assigned\n",
      "M2A           Not assigned                                      Not assigned\n",
      "M3A             North York                                         Parkwoods\n",
      "M4A             North York                                  Victoria Village\n",
      "M5A       Downtown Toronto                                      Harbourfront\n",
      "M5A       Downtown Toronto                                       Regent Park\n",
      "M6A             North York                                  Lawrence Heights\n",
      "M6A             North York                                    Lawrence Manor\n",
      "M7A           Queen's Park                                      Not assigned\n",
      "M8A           Not assigned                                      Not assigned\n",
      "M9A              Etobicoke                                  Islington Avenue\n",
      "M1B            Scarborough                                             Rouge\n",
      "M1B            Scarborough                                           Malvern\n",
      "M2B           Not assigned                                      Not assigned\n",
      "M3B             North York                                   Don Mills North\n",
      "M4B              East York                                  Woodbine Gardens\n",
      "M4B              East York                                     Parkview Hill\n",
      "M5B       Downtown Toronto                                           Ryerson\n",
      "M5B       Downtown Toronto                                   Garden District\n",
      "M6B             North York                                         Glencairn\n",
      "M7B           Not assigned                                      Not assigned\n",
      "M8B           Not assigned                                      Not assigned\n",
      "M9B              Etobicoke                                        Cloverdale\n",
      "M9B              Etobicoke                                         Islington\n",
      "M9B              Etobicoke                                      Martin Grove\n",
      "M9B              Etobicoke                                  Princess Gardens\n",
      "M9B              Etobicoke                                   West Deane Park\n",
      "M1C            Scarborough                                    Highland Creek\n",
      "M1C            Scarborough                                        Rouge Hill\n",
      "...                    ...                                               ...\n",
      "M9X           Not assigned                                      Not assigned\n",
      "M1Y           Not assigned                                      Not assigned\n",
      "M2Y           Not assigned                                      Not assigned\n",
      "M3Y           Not assigned                                      Not assigned\n",
      "M4Y       Downtown Toronto                              Church and Wellesley\n",
      "M5Y           Not assigned                                      Not assigned\n",
      "M6Y           Not assigned                                      Not assigned\n",
      "M7Y           East Toronto  Business reply mail Processing Centre969 Eastern\n",
      "M8Y              Etobicoke                                        Humber Bay\n",
      "M8Y              Etobicoke                                  King's Mill Park\n",
      "M8Y              Etobicoke                          Kingsway Park South East\n",
      "M8Y              Etobicoke                                         Mimico NE\n",
      "M8Y              Etobicoke                                    Old Mill South\n",
      "M8Y              Etobicoke                                The Queensway East\n",
      "M8Y              Etobicoke                             Royal York South East\n",
      "M8Y              Etobicoke                                          Sunnylea\n",
      "M9Y           Not assigned                                      Not assigned\n",
      "M1Z           Not assigned                                      Not assigned\n",
      "M2Z           Not assigned                                      Not assigned\n",
      "M3Z           Not assigned                                      Not assigned\n",
      "M4Z           Not assigned                                      Not assigned\n",
      "M5Z           Not assigned                                      Not assigned\n",
      "M6Z           Not assigned                                      Not assigned\n",
      "M7Z           Not assigned                                      Not assigned\n",
      "M8Z              Etobicoke                          Kingsway Park South West\n",
      "M8Z              Etobicoke                                         Mimico NW\n",
      "M8Z              Etobicoke                                The Queensway West\n",
      "M8Z              Etobicoke                             Royal York South West\n",
      "M8Z              Etobicoke                                    South of Bloor\n",
      "M9Z           Not assigned                                      Not assigned\n",
      "\n",
      "[290 rows x 2 columns]]\n"
     ]
    }
   ],
   "source": [
    "print(df)"
   ]
  },
  {
   "cell_type": "code",
   "execution_count": null,
   "metadata": {},
   "outputs": [],
   "source": []
  },
  {
   "cell_type": "code",
   "execution_count": null,
   "metadata": {},
   "outputs": [],
   "source": []
  },
  {
   "cell_type": "code",
   "execution_count": null,
   "metadata": {},
   "outputs": [],
   "source": []
  },
  {
   "cell_type": "code",
   "execution_count": null,
   "metadata": {},
   "outputs": [],
   "source": []
  },
  {
   "cell_type": "code",
   "execution_count": null,
   "metadata": {},
   "outputs": [],
   "source": []
  },
  {
   "cell_type": "code",
   "execution_count": null,
   "metadata": {},
   "outputs": [],
   "source": []
  },
  {
   "cell_type": "code",
   "execution_count": null,
   "metadata": {},
   "outputs": [],
   "source": []
  },
  {
   "cell_type": "code",
   "execution_count": null,
   "metadata": {},
   "outputs": [],
   "source": []
  },
  {
   "cell_type": "code",
   "execution_count": null,
   "metadata": {},
   "outputs": [],
   "source": []
  },
  {
   "cell_type": "code",
   "execution_count": 28,
   "metadata": {},
   "outputs": [],
   "source": []
  },
  {
   "cell_type": "code",
   "execution_count": null,
   "metadata": {},
   "outputs": [],
   "source": []
  },
  {
   "cell_type": "code",
   "execution_count": null,
   "metadata": {},
   "outputs": [],
   "source": []
  },
  {
   "cell_type": "code",
   "execution_count": null,
   "metadata": {},
   "outputs": [],
   "source": []
  }
 ],
 "metadata": {
  "kernelspec": {
   "display_name": "Python 3",
   "language": "python",
   "name": "python3"
  },
  "language_info": {
   "codemirror_mode": {
    "name": "ipython",
    "version": 3
   },
   "file_extension": ".py",
   "mimetype": "text/x-python",
   "name": "python",
   "nbconvert_exporter": "python",
   "pygments_lexer": "ipython3",
   "version": "3.6.7"
  }
 },
 "nbformat": 4,
 "nbformat_minor": 2
}
